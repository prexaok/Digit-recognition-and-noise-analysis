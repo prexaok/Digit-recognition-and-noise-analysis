{
 "cells": [
  {
   "cell_type": "markdown",
   "metadata": {},
   "source": [
    "# Digit Recognition with CNN"
   ]
  },
  {
   "cell_type": "markdown",
   "metadata": {},
   "source": [
    "In this notebook, we introduce a way to get a $99.5\\%$ accuracy on handwritten digit recognition using Convolutional Neural Networks built with Keras and trained with MNIST image dataset.\n",
    "\n",
    "First, we present the dataset and analyse its class balance. Second, we characterize the noise in the collection of images and show the basic image processing techniques to remove the most common sources of noise. Last, several NN are tested using different architectures with some of the basic layer structures used in CNN like $\\textit{Drop Out}$ and $\\textit{Maxpooling}$."
   ]
  },
  {
   "cell_type": "markdown",
   "metadata": {},
   "source": [
    "## Data Analisys "
   ]
  },
  {
   "cell_type": "markdown",
   "metadata": {},
   "source": [
    "### Dataset and class balance"
   ]
  },
  {
   "cell_type": "markdown",
   "metadata": {},
   "source": [
    "We start by importing the modules that we are going to use:"
   ]
  },
  {
   "cell_type": "code",
   "execution_count": 1,
   "metadata": {},
   "outputs": [
    {
     "name": "stderr",
     "output_type": "stream",
     "text": [
      "Using TensorFlow backend.\n"
     ]
    }
   ],
   "source": [
    "import pandas as pd\n",
    "import numpy as np\n",
    "import matplotlib.pyplot as plt\n",
    "import seaborn as sns\n",
    "import keras\n",
    "from keras.models import Sequential\n",
    "from keras.layers import Dense, Dropout, Flatten, Conv2D, MaxPool2D\n",
    "from sklearn.model_selection import train_test_split\n",
    "from sklearn.preprocessing import OneHotEncoder\n",
    "from keras.callbacks import ReduceLROnPlateau\n",
    "from keras.optimizers import RMSprop\n",
    "from keras.preprocessing.image import ImageDataGenerator\n",
    "from keras.utils.vis_utils import plot_model\n",
    "random_seed = 24\n",
    "%matplotlib inline\n",
    "import os\n",
    "os.environ['TF_CPP_MIN_LOG_LEVEL'] = '2' \n",
    "import warnings\n",
    "warnings.filterwarnings('ignore')"
   ]
  },
  {
   "cell_type": "markdown",
   "metadata": {},
   "source": [
    "The first thing to do with the dataset is to split it out and save one fraction untouched to test our model later. This way we get $\\texttt{X_test}$ and $\\texttt{X_train}$. Also, we save the classes in a single variable $\\texttt{y_test}$. "
   ]
  },
  {
   "cell_type": "code",
   "execution_count": 2,
   "metadata": {},
   "outputs": [],
   "source": [
    "train, X_test = pd.read_csv('train.csv'), pd.read_csv('test.csv')"
   ]
  },
  {
   "cell_type": "code",
   "execution_count": 3,
   "metadata": {},
   "outputs": [],
   "source": [
    "X_train = train.drop(columns = 'label')\n",
    "y_train = train.label\n",
    "del train"
   ]
  },
  {
   "cell_type": "markdown",
   "metadata": {},
   "source": [
    "Let's take a look at the first 10 instance to see how the data is structured:"
   ]
  },
  {
   "cell_type": "code",
   "execution_count": 4,
   "metadata": {
    "scrolled": true
   },
   "outputs": [
    {
     "data": {
      "text/html": [
       "<div>\n",
       "<style scoped>\n",
       "    .dataframe tbody tr th:only-of-type {\n",
       "        vertical-align: middle;\n",
       "    }\n",
       "\n",
       "    .dataframe tbody tr th {\n",
       "        vertical-align: top;\n",
       "    }\n",
       "\n",
       "    .dataframe thead th {\n",
       "        text-align: right;\n",
       "    }\n",
       "</style>\n",
       "<table border=\"1\" class=\"dataframe\">\n",
       "  <thead>\n",
       "    <tr style=\"text-align: right;\">\n",
       "      <th></th>\n",
       "      <th>pixel0</th>\n",
       "      <th>pixel1</th>\n",
       "      <th>pixel2</th>\n",
       "      <th>pixel3</th>\n",
       "      <th>pixel4</th>\n",
       "      <th>pixel5</th>\n",
       "      <th>pixel6</th>\n",
       "      <th>pixel7</th>\n",
       "      <th>pixel8</th>\n",
       "      <th>pixel9</th>\n",
       "      <th>...</th>\n",
       "      <th>pixel774</th>\n",
       "      <th>pixel775</th>\n",
       "      <th>pixel776</th>\n",
       "      <th>pixel777</th>\n",
       "      <th>pixel778</th>\n",
       "      <th>pixel779</th>\n",
       "      <th>pixel780</th>\n",
       "      <th>pixel781</th>\n",
       "      <th>pixel782</th>\n",
       "      <th>pixel783</th>\n",
       "    </tr>\n",
       "  </thead>\n",
       "  <tbody>\n",
       "    <tr>\n",
       "      <th>0</th>\n",
       "      <td>0</td>\n",
       "      <td>0</td>\n",
       "      <td>0</td>\n",
       "      <td>0</td>\n",
       "      <td>0</td>\n",
       "      <td>0</td>\n",
       "      <td>0</td>\n",
       "      <td>0</td>\n",
       "      <td>0</td>\n",
       "      <td>0</td>\n",
       "      <td>...</td>\n",
       "      <td>0</td>\n",
       "      <td>0</td>\n",
       "      <td>0</td>\n",
       "      <td>0</td>\n",
       "      <td>0</td>\n",
       "      <td>0</td>\n",
       "      <td>0</td>\n",
       "      <td>0</td>\n",
       "      <td>0</td>\n",
       "      <td>0</td>\n",
       "    </tr>\n",
       "    <tr>\n",
       "      <th>1</th>\n",
       "      <td>0</td>\n",
       "      <td>0</td>\n",
       "      <td>0</td>\n",
       "      <td>0</td>\n",
       "      <td>0</td>\n",
       "      <td>0</td>\n",
       "      <td>0</td>\n",
       "      <td>0</td>\n",
       "      <td>0</td>\n",
       "      <td>0</td>\n",
       "      <td>...</td>\n",
       "      <td>0</td>\n",
       "      <td>0</td>\n",
       "      <td>0</td>\n",
       "      <td>0</td>\n",
       "      <td>0</td>\n",
       "      <td>0</td>\n",
       "      <td>0</td>\n",
       "      <td>0</td>\n",
       "      <td>0</td>\n",
       "      <td>0</td>\n",
       "    </tr>\n",
       "    <tr>\n",
       "      <th>2</th>\n",
       "      <td>0</td>\n",
       "      <td>0</td>\n",
       "      <td>0</td>\n",
       "      <td>0</td>\n",
       "      <td>0</td>\n",
       "      <td>0</td>\n",
       "      <td>0</td>\n",
       "      <td>0</td>\n",
       "      <td>0</td>\n",
       "      <td>0</td>\n",
       "      <td>...</td>\n",
       "      <td>0</td>\n",
       "      <td>0</td>\n",
       "      <td>0</td>\n",
       "      <td>0</td>\n",
       "      <td>0</td>\n",
       "      <td>0</td>\n",
       "      <td>0</td>\n",
       "      <td>0</td>\n",
       "      <td>0</td>\n",
       "      <td>0</td>\n",
       "    </tr>\n",
       "    <tr>\n",
       "      <th>3</th>\n",
       "      <td>0</td>\n",
       "      <td>0</td>\n",
       "      <td>0</td>\n",
       "      <td>0</td>\n",
       "      <td>0</td>\n",
       "      <td>0</td>\n",
       "      <td>0</td>\n",
       "      <td>0</td>\n",
       "      <td>0</td>\n",
       "      <td>0</td>\n",
       "      <td>...</td>\n",
       "      <td>0</td>\n",
       "      <td>0</td>\n",
       "      <td>0</td>\n",
       "      <td>0</td>\n",
       "      <td>0</td>\n",
       "      <td>0</td>\n",
       "      <td>0</td>\n",
       "      <td>0</td>\n",
       "      <td>0</td>\n",
       "      <td>0</td>\n",
       "    </tr>\n",
       "    <tr>\n",
       "      <th>4</th>\n",
       "      <td>0</td>\n",
       "      <td>0</td>\n",
       "      <td>0</td>\n",
       "      <td>0</td>\n",
       "      <td>0</td>\n",
       "      <td>0</td>\n",
       "      <td>0</td>\n",
       "      <td>0</td>\n",
       "      <td>0</td>\n",
       "      <td>0</td>\n",
       "      <td>...</td>\n",
       "      <td>0</td>\n",
       "      <td>0</td>\n",
       "      <td>0</td>\n",
       "      <td>0</td>\n",
       "      <td>0</td>\n",
       "      <td>0</td>\n",
       "      <td>0</td>\n",
       "      <td>0</td>\n",
       "      <td>0</td>\n",
       "      <td>0</td>\n",
       "    </tr>\n",
       "    <tr>\n",
       "      <th>5</th>\n",
       "      <td>0</td>\n",
       "      <td>0</td>\n",
       "      <td>0</td>\n",
       "      <td>0</td>\n",
       "      <td>0</td>\n",
       "      <td>0</td>\n",
       "      <td>0</td>\n",
       "      <td>0</td>\n",
       "      <td>0</td>\n",
       "      <td>0</td>\n",
       "      <td>...</td>\n",
       "      <td>0</td>\n",
       "      <td>0</td>\n",
       "      <td>0</td>\n",
       "      <td>0</td>\n",
       "      <td>0</td>\n",
       "      <td>0</td>\n",
       "      <td>0</td>\n",
       "      <td>0</td>\n",
       "      <td>0</td>\n",
       "      <td>0</td>\n",
       "    </tr>\n",
       "    <tr>\n",
       "      <th>6</th>\n",
       "      <td>0</td>\n",
       "      <td>0</td>\n",
       "      <td>0</td>\n",
       "      <td>0</td>\n",
       "      <td>0</td>\n",
       "      <td>0</td>\n",
       "      <td>0</td>\n",
       "      <td>0</td>\n",
       "      <td>0</td>\n",
       "      <td>0</td>\n",
       "      <td>...</td>\n",
       "      <td>0</td>\n",
       "      <td>0</td>\n",
       "      <td>0</td>\n",
       "      <td>0</td>\n",
       "      <td>0</td>\n",
       "      <td>0</td>\n",
       "      <td>0</td>\n",
       "      <td>0</td>\n",
       "      <td>0</td>\n",
       "      <td>0</td>\n",
       "    </tr>\n",
       "    <tr>\n",
       "      <th>7</th>\n",
       "      <td>0</td>\n",
       "      <td>0</td>\n",
       "      <td>0</td>\n",
       "      <td>0</td>\n",
       "      <td>0</td>\n",
       "      <td>0</td>\n",
       "      <td>0</td>\n",
       "      <td>0</td>\n",
       "      <td>0</td>\n",
       "      <td>0</td>\n",
       "      <td>...</td>\n",
       "      <td>0</td>\n",
       "      <td>0</td>\n",
       "      <td>0</td>\n",
       "      <td>0</td>\n",
       "      <td>0</td>\n",
       "      <td>0</td>\n",
       "      <td>0</td>\n",
       "      <td>0</td>\n",
       "      <td>0</td>\n",
       "      <td>0</td>\n",
       "    </tr>\n",
       "    <tr>\n",
       "      <th>8</th>\n",
       "      <td>0</td>\n",
       "      <td>0</td>\n",
       "      <td>0</td>\n",
       "      <td>0</td>\n",
       "      <td>0</td>\n",
       "      <td>0</td>\n",
       "      <td>0</td>\n",
       "      <td>0</td>\n",
       "      <td>0</td>\n",
       "      <td>0</td>\n",
       "      <td>...</td>\n",
       "      <td>0</td>\n",
       "      <td>0</td>\n",
       "      <td>0</td>\n",
       "      <td>0</td>\n",
       "      <td>0</td>\n",
       "      <td>0</td>\n",
       "      <td>0</td>\n",
       "      <td>0</td>\n",
       "      <td>0</td>\n",
       "      <td>0</td>\n",
       "    </tr>\n",
       "    <tr>\n",
       "      <th>9</th>\n",
       "      <td>0</td>\n",
       "      <td>0</td>\n",
       "      <td>0</td>\n",
       "      <td>0</td>\n",
       "      <td>0</td>\n",
       "      <td>0</td>\n",
       "      <td>0</td>\n",
       "      <td>0</td>\n",
       "      <td>0</td>\n",
       "      <td>0</td>\n",
       "      <td>...</td>\n",
       "      <td>0</td>\n",
       "      <td>0</td>\n",
       "      <td>0</td>\n",
       "      <td>0</td>\n",
       "      <td>0</td>\n",
       "      <td>0</td>\n",
       "      <td>0</td>\n",
       "      <td>0</td>\n",
       "      <td>0</td>\n",
       "      <td>0</td>\n",
       "    </tr>\n",
       "  </tbody>\n",
       "</table>\n",
       "<p>10 rows × 784 columns</p>\n",
       "</div>"
      ],
      "text/plain": [
       "   pixel0  pixel1  pixel2  pixel3  pixel4  pixel5  pixel6  pixel7  pixel8  \\\n",
       "0       0       0       0       0       0       0       0       0       0   \n",
       "1       0       0       0       0       0       0       0       0       0   \n",
       "2       0       0       0       0       0       0       0       0       0   \n",
       "3       0       0       0       0       0       0       0       0       0   \n",
       "4       0       0       0       0       0       0       0       0       0   \n",
       "5       0       0       0       0       0       0       0       0       0   \n",
       "6       0       0       0       0       0       0       0       0       0   \n",
       "7       0       0       0       0       0       0       0       0       0   \n",
       "8       0       0       0       0       0       0       0       0       0   \n",
       "9       0       0       0       0       0       0       0       0       0   \n",
       "\n",
       "   pixel9  ...  pixel774  pixel775  pixel776  pixel777  pixel778  pixel779  \\\n",
       "0       0  ...         0         0         0         0         0         0   \n",
       "1       0  ...         0         0         0         0         0         0   \n",
       "2       0  ...         0         0         0         0         0         0   \n",
       "3       0  ...         0         0         0         0         0         0   \n",
       "4       0  ...         0         0         0         0         0         0   \n",
       "5       0  ...         0         0         0         0         0         0   \n",
       "6       0  ...         0         0         0         0         0         0   \n",
       "7       0  ...         0         0         0         0         0         0   \n",
       "8       0  ...         0         0         0         0         0         0   \n",
       "9       0  ...         0         0         0         0         0         0   \n",
       "\n",
       "   pixel780  pixel781  pixel782  pixel783  \n",
       "0         0         0         0         0  \n",
       "1         0         0         0         0  \n",
       "2         0         0         0         0  \n",
       "3         0         0         0         0  \n",
       "4         0         0         0         0  \n",
       "5         0         0         0         0  \n",
       "6         0         0         0         0  \n",
       "7         0         0         0         0  \n",
       "8         0         0         0         0  \n",
       "9         0         0         0         0  \n",
       "\n",
       "[10 rows x 784 columns]"
      ]
     },
     "execution_count": 4,
     "metadata": {},
     "output_type": "execute_result"
    }
   ],
   "source": [
    "X_train.head(10)"
   ]
  },
  {
   "cell_type": "markdown",
   "metadata": {},
   "source": [
    "Each row of our data frame corresponds to one square image of $28x28$ pixel that has been arranged as a single strip of $784$ components. If we wanted to retrieve the image, we would need to transform each row in to a $28x28$ matrix"
   ]
  },
  {
   "cell_type": "markdown",
   "metadata": {},
   "source": [
    "To understand what kind of problem we are facing it's important to study the $\\textbf{class balance}$ of our data. If we were dealing with an unbalanced data set we would need to use different techniques to balance it or use a weighted learning process to take the unbalance of the classes into account. Let's take a look at the number of instances in each class."
   ]
  },
  {
   "cell_type": "code",
   "execution_count": 6,
   "metadata": {},
   "outputs": [
    {
     "data": {
      "image/png": "[encoded data removed]",
      "text/plain": [
       "<Figure size 432x288 with 1 Axes>"
      ]
     },
     "metadata": {
      "needs_background": "light"
     },
     "output_type": "display_data"
    }
   ],
   "source": [
    "sns.countplot(y_train)\n",
    "plt.show()"
   ]
  },
  {
   "cell_type": "markdown",
   "metadata": {},
   "source": [
    "As we can see, our problem is well balanced. Considering the size of the dataset, all classes have approximately the same number of occurrences. $\\textbf{This is good}$. To begin with, we won't need to address class balance with extra tools. For a well-balanced problem, $\\textit{Accuracy}$ is usually a good score to track learning. In other cases, it is convenient to pay more attention to other scores such as $\\textit{Recall}$, $\\textit{Precision}$ or $\\textit{F1-score}$"
   ]
  },
  {
   "cell_type": "markdown",
   "metadata": {},
   "source": [
    "### Noise characterization and filtering"
   ]
  },
  {
   "cell_type": "markdown",
   "metadata": {},
   "source": [
    "In the following section we will analyse different sources of noise and how to identify and characterize them.\n",
    "First, let's have a look at our images. We have to reorder the instances of our dataset to regain the original images. This means converting each $1x784$ vector into a $28x28$ square matrix:\n"
   ]
  },
  {
   "cell_type": "code",
   "execution_count": 7,
   "metadata": {},
   "outputs": [],
   "source": [
    "X_train = X_train.values.reshape(-1,28,28,1)\n",
    "X_test = X_test.values.reshape(-1,28,28,1)\n",
    "y_train = keras.utils.to_categorical(y_train.values, 10)\n",
    "X_train = X_train/X_train.max()\n",
    "X_test = X_test/X_test.max()"
   ]
  },
  {
   "cell_type": "markdown",
   "metadata": {},
   "source": [
    "Plotting the images we get:"
   ]
  },
  {
   "cell_type": "code",
   "execution_count": 8,
   "metadata": {
    "scrolled": false
   },
   "outputs": [
    {
     "data": {
      "image/png": "[encoded data removed]",
      "text/plain": [
       "<Figure size 1080x1080 with 9 Axes>"
      ]
     },
     "metadata": {},
     "output_type": "display_data"
    }
   ],
   "source": [
    "fig = plt.figure(figsize = (15,15))\n",
    "for i in range(0,9):\n",
    "    plt.subplot(3,3,i+1)\n",
    "    plt.xticks([])\n",
    "    plt.yticks([])\n",
    "    plt.imshow(X_train[i][:,:,0])\n",
    "plt.show()"
   ]
  },
  {
   "cell_type": "markdown",
   "metadata": {},
   "source": [
    "We see that each instance corresponds to a handwritten number. In addition, we can see that the images are quite clear and have no visible noise. It is known that noise in the training dataset can reduce the accuracy of the model predictions so i's necessary to carry out a quantitative study to better understand the noise in our dataset."
   ]
  },
  {
   "cell_type": "markdown",
   "metadata": {},
   "source": [
    "##### Gaussian noise"
   ]
  },
  {
   "cell_type": "markdown",
   "metadata": {},
   "source": [
    "To begin we make a brief analysis using the $\\texttt{estimate_sigma}$ function provided by $\\texttt{scikit}$ module. This module measures the standard deviation ($\\sigma$) of the  $\\texttt{Gaussian noise}$. If the image distribution has a $\\sigma$ close to 0 then the image has low $\\textit{Gaussian noise}$. On the other hand, normal Gaussian noise has a $\\sigma = 1$, so if a image has a $sigma$ close to $1$, it's said to have high Gaussian noise.\n"
   ]
  },
  {
   "cell_type": "code",
   "execution_count": 15,
   "metadata": {},
   "outputs": [
    {
     "name": "stdout",
     "output_type": "stream",
     "text": [
      "\n",
      " Mean standard deviation from our dataset: 0.0710275309741942 \n",
      " Mean standard deviation from a white noise ensemble: 0.9632921571214835\n"
     ]
    }
   ],
   "source": [
    "import skimage.data\n",
    "from skimage import img_as_float\n",
    "from skimage.restoration import estimate_sigma\n",
    "sigma_vec = []\n",
    "noise_vec = []\n",
    "for imnumber in range(0,X_train.shape[0]):\n",
    "    image = X_train[imnumber][:,:,0]\n",
    "    noise = np.random.standard_normal(size = image.shape)\n",
    "    sigma_image = estimate_sigma(image)\n",
    "    sigma_noise = estimate_sigma(noise)\n",
    "    sigma_vec.append(sigma_image)\n",
    "    noise_vec.append(sigma_noise)\n",
    "mean_sigma = np.mean(sigma_vec)\n",
    "mean_noise = np.mean(noise_vec)\n",
    "print('\\n', 'Mean standard deviation of our dataset:', mean_sigma, '\\n',\n",
    "'Mean standard deviation of  white noise ensemble:', mean_noise)"
   ]
  },
  {
   "cell_type": "markdown",
   "metadata": {},
   "source": [
    "As we expected, the mean standard deviation of our dataset is considerably lower than that one corresponding to an ensemble of images with Gaussian noise.\n",
    "We can test how this works by adding noise to one of our images. Let's see how the $sigma$ quantifies the Gaussian noise by comparing an image with and without Gaussian noise.\n",
    "\n",
    "First, we plot the handwritten digit and the Gaussian noise separately."
   ]
  },
  {
   "cell_type": "code",
   "execution_count": 18,
   "metadata": {},
   "outputs": [
    {
     "data": {
      "text/plain": [
       "<matplotlib.image.AxesImage at 0x1f91093fe48>"
      ]
     },
     "execution_count": 18,
     "metadata": {},
     "output_type": "execute_result"
    },
    {
     "data": {
      "image/png": "[encoded data removed]",
      "text/plain": [
       "<Figure size 1080x1080 with 2 Axes>"
      ]
     },
     "metadata": {
      "needs_background": "light"
     },
     "output_type": "display_data"
    }
   ],
   "source": [
    "number = X_train[3252][:,:,0]\n",
    "random_im = np.random.standard_normal(size = imagen.shape)\n",
    "fig = plt.figure(figsize = (15,15))\n",
    "plt.subplot(1,2,1)\n",
    "plt.imshow(number, cmap = 'PuRd')\n",
    "plt.subplot(1,2,2)\n",
    "plt.imshow(random_im)"
   ]
  },
  {
   "cell_type": "markdown",
   "metadata": {},
   "source": [
    "Then we calculate the $sigma$ of each image: "
   ]
  },
  {
   "cell_type": "code",
   "execution_count": 19,
   "metadata": {},
   "outputs": [
    {
     "name": "stdout",
     "output_type": "stream",
     "text": [
      "\n",
      " The mean standard deviation the handwritten 6 is: 0.09515176442861432 \n",
      " The mean standard deviation of the noisy image is: 0.8700879340495004\n"
     ]
    }
   ],
   "source": [
    "sigma_number = estimate_sigma(number)\n",
    "sigma_noise = estimate_sigma(random_im)\n",
    "print('\\n', 'The mean standard deviation the handwritten 6 is:', sigma_number, '\\n',\n",
    "'The mean standard deviation of the noisy image is:', sigma_noise)"
   ]
  },
  {
   "cell_type": "markdown",
   "metadata": {},
   "source": [
    "Now, adding the noise to the digit image we get:"
   ]
  },
  {
   "cell_type": "code",
   "execution_count": 23,
   "metadata": {},
   "outputs": [
    {
     "data": {
      "text/plain": [
       "<matplotlib.image.AxesImage at 0x1f910da0848>"
      ]
     },
     "execution_count": 23,
     "metadata": {},
     "output_type": "execute_result"
    },
    {
     "data": {
      "image/png": "[encoded data removed]",
      "text/plain": [
       "<Figure size 1080x1080 with 2 Axes>"
      ]
     },
     "metadata": {
      "needs_background": "light"
     },
     "output_type": "display_data"
    }
   ],
   "source": [
    "noise_six = X_train[3252][:,:,0] +  0.3*np.random.standard_normal(size = imagen.shape)\n",
    "random_im = np.random.standard_normal(size = image.shape)\n",
    "fig = plt.figure(figsize = (15,15))\n",
    "plt.subplot(1,2,1)\n",
    "plt.imshow(noise_six, cmap = 'PuRd')\n",
    "plt.subplot(1,2,2)\n",
    "plt.imshow(random_im)"
   ]
  },
  {
   "cell_type": "code",
   "execution_count": 24,
   "metadata": {},
   "outputs": [
    {
     "name": "stdout",
     "output_type": "stream",
     "text": [
      "\n",
      " The mean standard deviation the handwritten 6 is : 0.32013462649928814 \n",
      " The mean standard deviation of the noisy image is: 0.9918739531311274\n"
     ]
    }
   ],
   "source": [
    "sigma_noise_six = estimate_sigma(noise_six)\n",
    "sigma_noise = estimate_sigma(random_im)\n",
    "print('\\n', 'The mean standard deviation the handwritten 6 is :', sigma_noise_six, '\\n',\n",
    "'The mean standard deviation of the noisy image is:', sigma_noise)"
   ]
  },
  {
   "cell_type": "markdown",
   "metadata": {},
   "source": [
    "We can see that the sigma of the image with Gaussian noise is closer to 1."
   ]
  },
  {
   "cell_type": "markdown",
   "metadata": {},
   "source": [
    "Even though $sigma$ it's a good measurement of the presence of Gaussian noise in an image, this parameter is not determinative because values close to $1$ (even greater than $1$) may not necessarily come from normal noise. So once noise is detected, further analysis is needed. In our case, we can rule out the presence of images with a lot of Gaussian noise. However, the images could present other forms of noise such as a periodic pattern or uniform noise."
   ]
  },
  {
   "cell_type": "markdown",
   "metadata": {},
   "source": [
    "##### Uniform noise"
   ]
  },
  {
   "cell_type": "markdown",
   "metadata": {},
   "source": [
    "To study uniform noise in our data we will perform a statistical analysis. We will compare the distribution of the mean intensity of our images and the mean intensity of an ensemble of images with uniform intensities. This will become clearer soon.\n",
    "\n",
    "The $\\textbf{Central Limit Theorem}$ (CLT) states that if a random variable $S$, is the mean of independent random variables, i.e., $S =\\frac {X_1+ \\dots + X_n} {n}$, then the distribution of $S$ will be approximately a normal distribution for large n. If this random variables $X_i$ have the same distribution, with $\\mu$ and $\\sigma$, then the distribution of $S$ will be aproximatelly ~$N(\\mu,\\sigma/\\sqrt{n})$\n",
    "\n",
    "\n",
    "For our problem we can build S as the sum of each pixels intensity, i.e., we sum the intensity of each of the $784$ pixels, denoting the intensity of one pixel as $X_i$ our S can be written as:\n",
    "\n",
    "$$\n",
    "\\begin{equation}\n",
    "S =  \\frac{1}{748}\\sum_i^{784}X_i\n",
    "\\end{equation}\n",
    "$$\n",
    "\n",
    "\n",
    "\n",
    "To exemplify this let's take a look at the distribution of the mean intensity of an ensemble of images with uniform intensity in each pixel. We will use the same number of images than in our $\\textit{train set}$."
   ]
  },
  {
   "cell_type": "code",
   "execution_count": 54,
   "metadata": {},
   "outputs": [
    {
     "data": {
      "image/png": "[encoded data removed]",
      "text/plain": [
       "<Figure size 432x288 with 1 Axes>"
      ]
     },
     "metadata": {
      "needs_background": "light"
     },
     "output_type": "display_data"
    }
   ],
   "source": [
    "vec = []\n",
    "for i in range(0,1000000):\n",
    "    img = np.random.uniform(size = (28, 28))\n",
    "    vec.append(img.mean())\n",
    "plt.hist(vec, bins = 500, rwidth = 2) \n",
    "plt.show()"
   ]
  },
  {
   "cell_type": "code",
   "execution_count": 56,
   "metadata": {},
   "outputs": [
    {
     "data": {
      "text/plain": [
       "0.49999115837357694"
      ]
     },
     "execution_count": 56,
     "metadata": {},
     "output_type": "execute_result"
    }
   ],
   "source": [
    "np.mean(vec)"
   ]
  },
  {
   "cell_type": "code",
   "execution_count": 58,
   "metadata": {},
   "outputs": [
    {
     "data": {
      "text/plain": [
       "0.010310765271709628"
      ]
     },
     "execution_count": 58,
     "metadata": {},
     "output_type": "execute_result"
    }
   ],
   "source": [
    "estimate_sigma(np.array(vec))"
   ]
  },
  {
   "cell_type": "markdown",
   "metadata": {},
   "source": [
    "As the CLT tells us, the sigma of $S$ should be close to $\\sigma/\\sqrt{n}$, in our case $X_i$ comes from a uniform distribution ($\\sigma = \\frac{1}{\\sqrt{12}}$), then $\\sigma_S$ ~ $\\frac{1}{\\sqrt(12)}\\frac{1}{\\sqrt{748}}$"
   ]
  },
  {
   "cell_type": "code",
   "execution_count": 55,
   "metadata": {},
   "outputs": [
    {
     "data": {
      "text/plain": [
       "0.010309826235529031"
      ]
     },
     "execution_count": 55,
     "metadata": {},
     "output_type": "execute_result"
    }
   ],
   "source": [
    "1/np.sqrt(12*784)"
   ]
  },
  {
   "cell_type": "markdown",
   "metadata": {},
   "source": [
    "As we can se in the previous pictures and calculations, $S$ has approximately a gaussian distribution. Because the intensities range from $0$ to $1$ then the average of $S$ is going to be $\\mu = 0.5$. Now that we know how a eneseble of images made of uniform noise behaves, we are going to compare it with the distribution build from our dataset. So the closer our dataset distribution is to the noise dsitribution will say it's noiser. Next we show the distributions of: our data set, our dataset with uniform noise and the uniform noise ensemble:"
   ]
  },
  {
   "cell_type": "code",
   "execution_count": 32,
   "metadata": {
    "scrolled": true
   },
   "outputs": [
    {
     "data": {
      "image/png": "[encoded data removed]",
      "text/plain": [
       "<Figure size 432x288 with 1 Axes>"
      ]
     },
     "metadata": {
      "needs_background": "light"
     },
     "output_type": "display_data"
    }
   ],
   "source": [
    "img_number = X_train.shape[0]\n",
    "vec = []\n",
    "vec2 = []\n",
    "vec3 = []\n",
    "for i in range(0,img_number):\n",
    "    img =  X_train[i][:,:,0] \n",
    "    img = img/img.max()\n",
    "    vec.append(img.mean())\n",
    "    img = X_train[i][:,:,0]  + 0.6*np.random.uniform(size = (28, 28))\n",
    "    img = img/img.max()\n",
    "    vec2.append(img.mean())\n",
    "    img = np.random.uniform(size = (28, 28))\n",
    "    img = img/img.max()\n",
    "    vec3.append(img.mean())\n",
    "plt.hist([vec, vec2, vec3], bins = 500, rwidth = 2, label = ['Trainset', 'Trainset with noise', 'Noise'])\n",
    "plt.legend(loc = 'upper left')\n",
    "plt.show()"
   ]
  },
  {
   "cell_type": "code",
   "execution_count": 53,
   "metadata": {},
   "outputs": [
    {
     "name": "stdout",
     "output_type": "stream",
     "text": [
      "\n",
      " The sigma of the trainset is: 0.04309035996190209 \n",
      " The sigma of the trainset with uniform noise is: 0.02652239796129484 \n",
      " The sigma of noise is: 0.010183490205720227 \n",
      " The mean of the trainset set: 0.1310661494565955 \n",
      " The of the train set with uniform noise is: 0.27275844916576936 \n",
      " The mean of the uniform noise is: 0.500627478518369\n"
     ]
    }
   ],
   "source": [
    "sigma_trainset =  estimate_sigma(np.array(vec))\n",
    "sigma_noisy_trainset = estimate_sigma(np.array(vec2))\n",
    "sigma_noise = estimate_sigma(np.array(vec3))\n",
    "\n",
    "mean_trainset = np.mean(vec)\n",
    "mean_noisy_trainset = np.mean(vec2)\n",
    "mean_noise = np.mean(vec3)\n",
    "\n",
    "print('\\n', 'The sigma of the trainset is:', sigma_trainset,\n",
    "     '\\n', 'The sigma of the trainset with uniform noise is:', sigma_noisy_trainset,\n",
    "     '\\n', 'The sigma of noise is:', sigma_noise,\n",
    "     '\\n', 'The mean of the trainset set:', mean_trainset,\n",
    "     '\\n', 'The of the train set with uniform noise is:', mean_noisy_trainset,\n",
    "     '\\n', 'The mean of the uniform noise is:', mean_noise,)"
   ]
  },
  {
   "cell_type": "markdown",
   "metadata": {},
   "source": [
    "This way, we have a set of parameters to compare our distribution with the characteristic distribution of uniform noise. We see that our dataset has an average of $\\mu_{train} = 0.1$ while the characteristic noise $\\mu_{noise} = 0.5$. In addition, we see that the distribution of the train set with added noise is positioned, as expected, with an average that falls between the previous two. On the other hand, we see that the distribution of the train set presents a variance 4 times greater than that of the noise. With this analysis, and for this particular case, we could conclude that our dataset does not present a considerable amount of uniform noise either. However, for a more conclusive analysis, we would have to weigh these mentioned parameters plus those obtained by a Gaussian fit to each distribution. An analysis of the type $\\chi^2$ could be useful to give us an idea of how similar our dataset is to the characteristic distribution of uniform noise."
   ]
  },
  {
   "cell_type": "markdown",
   "metadata": {},
   "source": [
    "Again, this simple analysis can guide us or give us an idea of the presence of uniform noise but it is not conclusive and its result could infer different things. For example, a sufficiently pathological dataset could result in a Gaussian distribution similar to that resulting from a uniform noise assembly. Suspecting that our dataset is low noise, we will use the $\\texttt{ndimage}$ module of $\\texttt{scipy}$. We will try to recover the noise from our images by subtracting the non-noisy information using different filters and subtracting the filtered image from the post image to obtain the noise."
   ]
  },
  {
   "cell_type": "code",
   "execution_count": 301,
   "metadata": {},
   "outputs": [
    {
     "data": {
      "text/plain": [
       "<matplotlib.image.AxesImage at 0x161bd81ba58>"
      ]
     },
     "execution_count": 301,
     "metadata": {},
     "output_type": "execute_result"
    },
    {
     "data": {
      "image/png": "[encoded data removed]",
      "text/plain": [
       "<Figure size 1080x1080 with 5 Axes>"
      ]
     },
     "metadata": {
      "needs_background": "light"
     },
     "output_type": "display_data"
    }
   ],
   "source": [
    "from scipy import ndimage\n",
    "\n",
    "image =  X_train[25][:,:,0] \n",
    "gauss_denoised = ndimage.gaussian_filter(image, 2)\n",
    "med_denoised = ndimage.median_filter(image, 3)\n",
    "gauss_noise = X_train[25][:,:,0]  - gauss_denoised\n",
    "med_noise = X_train[25][:,:,0]  - med_denoised\n",
    "\n",
    "fig = plt.figure(figsize = (15,15))\n",
    "plt.subplot(1,5,1)\n",
    "plt.title('Original Image')\n",
    "plt.imshow(image)\n",
    "plt.subplot(1,5,2)\n",
    "plt.title('Normal denoised')\n",
    "plt.imshow(med_denoised)\n",
    "plt.subplot(1,5,3)\n",
    "plt.title('Gaussian denoised')\n",
    "plt.imshow(gauss_denoised)\n",
    "plt.subplot(1,5,4)\n",
    "plt.title('Gaussian Noise')\n",
    "plt.imshow(gauss_noise)\n",
    "plt.subplot(1,5,5)\n",
    "plt.title('Normal Noise')\n",
    "plt.imshow(med_noise)"
   ]
  },
  {
   "cell_type": "markdown",
   "metadata": {},
   "source": [
    "We can conclude that our data set has low noise. In this case we should be careful when applying gaussian filters. If we look at the previous cell, we see that the result of having applied this filter is a $\\textit{blurred}$ image. We start from a clear and low noise image and we obtain an image in which all the clear edges have been filtered. This is a price that someone might want to pay if the dataset has a considerable amount of noise. Otherwise, it is advisable not to use this type of filter. On the other hand, we see that the result of removing the average noise is practically unchanged from the original image. This is to be expected in low noise images. "
   ]
  },
  {
   "cell_type": "markdown",
   "metadata": {},
   "source": [
    "##### Periodical noise"
   ]
  },
  {
   "cell_type": "markdown",
   "metadata": {},
   "source": [
    "To have a complete analysis of the most common sources of noise we'll also analyse the periodical noise. In these case it's useful to look a the two dimensional Fourier transform. Let's look at what happens when we add a periodic pattern to one of our images."
   ]
  },
  {
   "cell_type": "code",
   "execution_count": 36,
   "metadata": {},
   "outputs": [
    {
     "data": {
      "text/plain": [
       "<matplotlib.image.AxesImage at 0x1f9143e5148>"
      ]
     },
     "execution_count": 36,
     "metadata": {},
     "output_type": "execute_result"
    },
    {
     "data": {
      "image/png": "[encoded data removed]",
      "text/plain": [
       "<Figure size 1080x1080 with 3 Axes>"
      ]
     },
     "metadata": {
      "needs_background": "light"
     },
     "output_type": "display_data"
    }
   ],
   "source": [
    "[X,Y] = np.meshgrid(2*np.pi * np.arange(28)/12,2*np.pi * np.arange(28)/34)\n",
    "circles = np.sin(Y+X) +  np.cos(10* Y) + np.cos(2* Y) + np.cos(4* X) + np.cos(4* X)  #+ np.random.uniform(0,0.02,X.shape)\n",
    "fig = plt.figure(figsize = (15,15))\n",
    "image =  X_train[25][:,:,0] \n",
    "pattern_number = image + 0.3*circles\n",
    "plt.subplot(1,3,1)\n",
    "plt.title('Original Image')\n",
    "plt.imshow(image)\n",
    "plt.subplot(1,3,2)\n",
    "plt.title('Pattern Noise')\n",
    "plt.imshow(circles)\n",
    "plt.subplot(1,3,3)\n",
    "plt.title('Noisy Image')\n",
    "plt.imshow(pattern_number)"
   ]
  },
  {
   "cell_type": "markdown",
   "metadata": {},
   "source": [
    "Then we analyze the frequencies of the periodic noise by looking at the Fourier transform of the noisy image:"
   ]
  },
  {
   "cell_type": "code",
   "execution_count": 37,
   "metadata": {},
   "outputs": [
    {
     "data": {
      "text/plain": [
       "Text(0.5, 1.0, 'Fourier transform')"
      ]
     },
     "execution_count": 37,
     "metadata": {},
     "output_type": "execute_result"
    },
    {
     "data": {
      "image/png": "[encoded data removed]",
      "text/plain": [
       "<Figure size 432x288 with 2 Axes>"
      ]
     },
     "metadata": {
      "needs_background": "light"
     },
     "output_type": "display_data"
    }
   ],
   "source": [
    "from scipy import fftpack\n",
    "im_fft = fftpack.fft2(pattern_number)\n",
    "def plot_spectrum(im_fft):\n",
    "    from matplotlib.colors import LogNorm\n",
    "    # A logarithmic colormap\n",
    "    plt.imshow(np.abs(im_fft), norm=LogNorm(vmin=5))\n",
    "    plt.colorbar()\n",
    "\n",
    "plt.figure()\n",
    "plot_spectrum(im_fft)\n",
    "plt.title('Fourier transform')"
   ]
  },
  {
   "cell_type": "markdown",
   "metadata": {},
   "source": [
    "The frequencies present in the noise are the high intensity peaks in the matrix, these correspond to the noise that we added. To filter  these noise all we have to do is  remove these high intensity matrix elements:"
   ]
  },
  {
   "cell_type": "code",
   "execution_count": 44,
   "metadata": {},
   "outputs": [
    {
     "data": {
      "text/plain": [
       "Text(0.5, 1.0, 'Filtered Spectrum')"
      ]
     },
     "execution_count": 44,
     "metadata": {},
     "output_type": "execute_result"
    },
    {
     "data": {
      "image/png": "[encoded data removed]",
      "text/plain": [
       "<Figure size 432x288 with 2 Axes>"
      ]
     },
     "metadata": {
      "needs_background": "light"
     },
     "output_type": "display_data"
    }
   ],
   "source": [
    "im_fft2 = im_fft.copy()\n",
    "im_fft2[[0,1,27],:] = 0\n",
    "im_fft2[:, 0:1] = 0\n",
    "\n",
    "plt.figure()\n",
    "plot_spectrum(im_fft2)\n",
    "plt.title('Filtered Spectrum')"
   ]
  },
  {
   "cell_type": "markdown",
   "metadata": {},
   "source": [
    "Our image can be recovered by calculating the inverse Fourier transform:"
   ]
  },
  {
   "cell_type": "code",
   "execution_count": 45,
   "metadata": {},
   "outputs": [
    {
     "data": {
      "text/plain": [
       "Text(0.5, 1.0, 'Reconstructed Image')"
      ]
     },
     "execution_count": 45,
     "metadata": {},
     "output_type": "execute_result"
    },
    {
     "data": {
      "image/png": "[encoded data removed]",
      "text/plain": [
       "<Figure size 432x288 with 1 Axes>"
      ]
     },
     "metadata": {
      "needs_background": "light"
     },
     "output_type": "display_data"
    }
   ],
   "source": [
    "# Reconstruct the denoised image from the filtered spectrum, keep only the\n",
    "# real part for display.\n",
    "im_new = fftpack.ifft2(im_fft2).real\n",
    "\n",
    "plt.figure()\n",
    "plt.imshow(im_new)\n",
    "plt.title('Reconstructed Image')"
   ]
  },
  {
   "cell_type": "markdown",
   "metadata": {},
   "source": [
    "We have reconstructed  the image but without the noise pattern!\n",
    "\n",
    "All the previous techniques can be usued to filter the different types of noise and get more quality pictures to train our models."
   ]
  },
  {
   "cell_type": "markdown",
   "metadata": {},
   "source": [
    "### CNN Analisys"
   ]
  },
  {
   "cell_type": "markdown",
   "metadata": {},
   "source": [
    "Finally, we test different architectures of convolutional neural networks and discuss some of its characteristics. First we reserve a $20\\%$ fraction of the train set to cross-validate during training."
   ]
  },
  {
   "cell_type": "code",
   "execution_count": 5,
   "metadata": {},
   "outputs": [],
   "source": [
    "#Split train test\n",
    "X_train, X_val, y_train, y_val = train_test_split(X_train, y_train, test_size = 0.2, random_state=random_seed)"
   ]
  },
  {
   "cell_type": "markdown",
   "metadata": {},
   "source": [
    "Next we define some important parameters, the activation function,  loss functions and the metric for training. The activation function it's an operation over each neuron that turns the neuron on or off depending on the input value. The most basic activation function is the step function. In this case we use either $\\textit{ReLU}$ or $\\textit{Rectified Linear Unit}$. This last activation function is especially optimized for deep convolutional networks. It has certain advantages such as numerical ease in the algebraic operations involved and provides better convergence as it minimizes the problems of $\\textit{gradient vanishing}$.\n",
    "\n",
    "We used $\\textit{categorical cross entropy}$ as a loss function. This function is usual in multiclass problems, where the entropy of the probability distribution of each class is assigned as loss. In addition, in this kind of classification problem, where the correct prediction is only one, it is useful to use this entropy where the only non-zero term of entropy is the one corresponding to the positive class.\n",
    "\n",
    "Finally, we choose to use $\\textit{accuracy}$ as the metric, which is the most intuitive and easy for problems with good balance of classes."
   ]
  },
  {
   "cell_type": "code",
   "execution_count": 46,
   "metadata": {},
   "outputs": [],
   "source": [
    "#CNN\n",
    "#hyperparams\n",
    "activation = 'relu'\n",
    "#initializer = keras.initializers.lecun_uniform(seed=42)\n",
    "filters = 32\n",
    "kernel_size = (5,5)\n",
    "init_learning_rate = 0.001\n",
    "\n",
    "loss = 'categorical_crossentropy'\n",
    "epochs = 30\n",
    "dataset_size = X_train.shape[0]\n",
    "batch_size = 86\n",
    "metric = ['accuracy']"
   ]
  },
  {
   "cell_type": "markdown",
   "metadata": {},
   "source": [
    "The $\\texttt{ReduceLROnPlateau}$ algorithm updates the value of the learning rate when the minimization of the loss function is stalled in the learning process. It is a dynamic way to optimize network parameters without having to stop training."
   ]
  },
  {
   "cell_type": "code",
   "execution_count": 47,
   "metadata": {},
   "outputs": [],
   "source": [
    "lr_reduction = ReduceLROnPlateau(monitor='val_acc',\n",
    "                                            patience=1,\n",
    "                                            verbose=1,\n",
    "                                            factor=0.1,\n",
    "                                            min_lr=0.000001)\n"
   ]
  },
  {
   "cell_type": "markdown",
   "metadata": {},
   "source": [
    "The most basic convolutional network structure possible is show below. It is a 2D convolution layer. This layer performs convolutions of the image with different filters. In this case, the number of filters is $\\texttt{filters = 32}$. Each filter \"concentrates\" on a particular aspect of the image. For example, one filter focuses on the horizontal lines, another on the vertical lines, and another on the diagonals. Another filter can focus on circular shapes, $\\textit{and so on...}$ In this way, we get a \"breakdown\" of 32 images that hold a particular aspect of our input image. The filters are printed on a smaller matrix called $\\textit{kernel}$. In this case $\\texttt{kernel_size} = (5.5)$. \n",
    "\n",
    "The output layer consists of $\\texttt{Flatten}$ and $\\texttt{Dense}$. The first one, only converts the input to a vector of one dimension, as is usually done in the output of any NN. $\\texttt{Dense}$ is a layer that by definition has a neuron for each $\\texttt{feature}$. In this case, one for each pixel. It transforms the input into the desired shape and dimension. In this case, a vector of 256 elements, one for each possible pixel value. Finally, the output is converted to a probability distribution of each of the $10$ classes."
   ]
  },
  {
   "cell_type": "code",
   "execution_count": 48,
   "metadata": {},
   "outputs": [],
   "source": [
    "model = Sequential()\n",
    "#input layer\n",
    "model.add(Conv2D(filters = filters, kernel_size = kernel_size,\n",
    "                 strides = 1, padding = 'Same',\n",
    "                 activation =activation, input_shape = (28,28,1)))\n",
    "\n",
    "\n",
    "#output layer\n",
    "model.add(Flatten())\n",
    "model.add(Dense(256, activation = activation)) #dense de 2^n\n",
    "model.add(Dense( 10,activation = 'softmax'))"
   ]
  },
  {
   "cell_type": "markdown",
   "metadata": {},
   "source": [
    "Let's see the neetwork structure:"
   ]
  },
  {
   "cell_type": "code",
   "execution_count": 10,
   "metadata": {},
   "outputs": [
    {
     "name": "stdout",
     "output_type": "stream",
     "text": [
      "_________________________________________________________________\n",
      "Layer (type)                 Output Shape              Param #   \n",
      "=================================================================\n",
      "conv2d_1 (Conv2D)            (None, 28, 28, 32)        832       \n",
      "_________________________________________________________________\n",
      "flatten_1 (Flatten)          (None, 25088)             0         \n",
      "_________________________________________________________________\n",
      "dense_1 (Dense)              (None, 256)               6422784   \n",
      "_________________________________________________________________\n",
      "dense_2 (Dense)              (None, 10)                2570      \n",
      "=================================================================\n",
      "Total params: 6,426,186\n",
      "Trainable params: 6,426,186\n",
      "Non-trainable params: 0\n",
      "_________________________________________________________________\n"
     ]
    }
   ],
   "source": [
    "model.summary()"
   ]
  },
  {
   "cell_type": "markdown",
   "metadata": {},
   "source": [
    "The optimization algorithm used is $\\texttt{RMSprop}$. It owes its fame to its great capacity of convergence, being considerably faster and more effective than the rest. In addition, the module $\\texttt{Keras}$ suggests not change the default hyperparameters because they are already optimized. Having chosen the optimizer, we trained this first model:"
   ]
  },
  {
   "cell_type": "code",
   "execution_count": 17,
   "metadata": {},
   "outputs": [
    {
     "name": "stdout",
     "output_type": "stream",
     "text": [
      "Train on 33600 samples, validate on 8400 samples\n",
      "Epoch 1/6\n",
      "33600/33600 [==============================] - 50s 1ms/step - loss: 0.0032 - acc: 0.9991 - val_loss: 0.0781 - val_acc: 0.9856\n",
      "Epoch 2/6\n",
      "33600/33600 [==============================] - 51s 2ms/step - loss: 0.0018 - acc: 0.9996 - val_loss: 0.0861 - val_acc: 0.9838\n",
      "\n",
      "Epoch 00002: ReduceLROnPlateau reducing learning rate to 0.00010000000474974513.\n",
      "Epoch 3/6\n",
      "33600/33600 [==============================] - 51s 2ms/step - loss: 6.5489e-04 - acc: 0.9999 - val_loss: 0.0823 - val_acc: 0.9854\n",
      "\n",
      "Epoch 00003: ReduceLROnPlateau reducing learning rate to 1.0000000474974514e-05.\n",
      "Epoch 4/6\n",
      "33600/33600 [==============================] - 50s 1ms/step - loss: 4.9125e-04 - acc: 1.0000 - val_loss: 0.0811 - val_acc: 0.9861\n",
      "Epoch 5/6\n",
      "33600/33600 [==============================] - 51s 2ms/step - loss: 4.8999e-04 - acc: 1.0000 - val_loss: 0.0814 - val_acc: 0.9860\n",
      "\n",
      "Epoch 00005: ReduceLROnPlateau reducing learning rate to 1.0000000656873453e-06.\n",
      "Epoch 6/6\n",
      "33600/33600 [==============================] - 52s 2ms/step - loss: 4.8811e-04 - acc: 1.0000 - val_loss: 0.0814 - val_acc: 0.9861\n",
      "\n",
      "Epoch 00006: ReduceLROnPlateau reducing learning rate to 1e-06.\n"
     ]
    }
   ],
   "source": [
    "optimizer = RMSprop(lr=0.001, rho=0.9, epsilon=1e-08, decay=0.0)\n",
    "model.compile(optimizer = optimizer, loss = loss, metrics = metric)\n",
    "\n",
    "history1 = model.fit(X_train,y_train, epochs = 6,  batch_size = batch_size, validation_data = (X_val,y_val), callbacks = [lr_reduction])"
   ]
  },
  {
   "cell_type": "markdown",
   "metadata": {},
   "source": [
    "Two things stand out from the previous training. The first is that the score obtained is considerably good. This is due to the fidelity and large amount of images. For such a big dataset, with a generic convolutional network like the one tested previously, it is practically immediate to obtain an $\\textit{accuracy}$ of $98.7\\%$ if the network hyperparameters are properly chosen. However a better architecture can yield scores of $99.7\\%$. Then, a good performance for this case is played on the second or third significant digit of the metric in question. The second remarkable thing is that, as we see in the difference between validation and training metrics, in this case the training presents a considerable $\\textit{overfitting}$. We can see that the validation accuracy is $acc_{val} = 0.987$ while the training accuracy is $acc_{train} = 0.999$. The same is indicated by the relationship between the loss functions. \n",
    "\n",
    "A good method to counteract the tendency to overfitting is to increase the size of our dataset. For this, we can take the images we have and deform them with stretches and rotations to simulate more samples. We will use Keras' $\\texttt{ImageDataGenerator}$ module."
   ]
  },
  {
   "cell_type": "code",
   "execution_count": 19,
   "metadata": {},
   "outputs": [],
   "source": [
    "datagen = ImageDataGenerator(\n",
    "    featurewise_center=False,  # set input mean to 0 over the dataset\n",
    "    samplewise_center=False,  # set each sample mean to 0\n",
    "    featurewise_std_normalization=False,  # divide inputs by std of the dataset\n",
    "    samplewise_std_normalization=False,  # divide each input by its std\n",
    "    zca_whitening=False,  # apply ZCA whitening\n",
    "    rotation_range=10,  # randomly rotate images in the range (degrees, 0 to 180)\n",
    "    zoom_range = 0.0, # Randomly zoom image\n",
    "    width_shift_range=0.1,  # randomly shift images horizontally (fraction of total width)\n",
    "    height_shift_range=0.1,  # randomly shift images vertically (fraction of total height)\n",
    "    horizontal_flip=False,  # randomly flip images\n",
    "    vertical_flip=False)  # randomly flip images\n",
    "\n",
    "datagen.fit(X_train)"
   ]
  },
  {
   "cell_type": "markdown",
   "metadata": {},
   "source": [
    "We train again the same network with the augmented dataset."
   ]
  },
  {
   "cell_type": "code",
   "execution_count": 20,
   "metadata": {},
   "outputs": [
    {
     "name": "stdout",
     "output_type": "stream",
     "text": [
      "Epoch 1/10\n",
      "500/500 [==============================] - 67s 135ms/step - loss: 0.2003 - acc: 0.9445 - val_loss: 0.0416 - val_acc: 0.9852\n",
      "Epoch 2/10\n",
      "500/500 [==============================] - 66s 132ms/step - loss: 0.0965 - acc: 0.9715 - val_loss: 0.0451 - val_acc: 0.9858\n",
      "Epoch 3/10\n",
      "500/500 [==============================] - 67s 133ms/step - loss: 0.0797 - acc: 0.9759 - val_loss: 0.0320 - val_acc: 0.9886\n",
      "Epoch 4/10\n",
      "500/500 [==============================] - 69s 137ms/step - loss: 0.0688 - acc: 0.9793 - val_loss: 0.0345 - val_acc: 0.9890\n",
      "Epoch 5/10\n",
      "500/500 [==============================] - 66s 132ms/step - loss: 0.0618 - acc: 0.9820 - val_loss: 0.0286 - val_acc: 0.9910\n",
      "Epoch 6/10\n",
      "500/500 [==============================] - 66s 132ms/step - loss: 0.0563 - acc: 0.9832 - val_loss: 0.0361 - val_acc: 0.9886\n",
      "\n",
      "Epoch 00006: ReduceLROnPlateau reducing learning rate to 0.00010000000474974513.\n",
      "Epoch 7/10\n",
      "500/500 [==============================] - 65s 130ms/step - loss: 0.0455 - acc: 0.9867 - val_loss: 0.0259 - val_acc: 0.9911\n",
      "Epoch 8/10\n",
      "500/500 [==============================] - 67s 134ms/step - loss: 0.0432 - acc: 0.9870 - val_loss: 0.0235 - val_acc: 0.9914\n",
      "Epoch 9/10\n",
      "500/500 [==============================] - 68s 135ms/step - loss: 0.0398 - acc: 0.9885 - val_loss: 0.0263 - val_acc: 0.9919\n",
      "Epoch 10/10\n",
      "500/500 [==============================] - 66s 132ms/step - loss: 0.0419 - acc: 0.9885 - val_loss: 0.0255 - val_acc: 0.9912\n",
      "\n",
      "Epoch 00010: ReduceLROnPlateau reducing learning rate to 1.0000000474974514e-05.\n"
     ]
    }
   ],
   "source": [
    "optimizer = RMSprop(lr=0.001, rho=0.9, epsilon=1e-08, decay=0.0)\n",
    "model.compile(optimizer = optimizer, loss = loss, metrics = metric)\n",
    "\n",
    "history = model.fit_generator(datagen.flow(X_train, y_train, batch_size = batch_size),\n",
    "                              steps_per_epoch=500, validation_data=[X_val, y_val],\n",
    "                              epochs = 10,\n",
    "                             callbacks=[lr_reduction])"
   ]
  },
  {
   "cell_type": "markdown",
   "metadata": {},
   "source": [
    "As we can see, we have solved the issue of overfitting. Moreover, by increasing the size of the dataset, the performance has improved substantially, obtaining a validation accuracy of $0.992\\%$ (in a larger number of epochs it can reach $0.993\\%$). However, we know that with a better architecture and using some typical tools of the convolutional neural networks, this score can improve substantially. In particular, we will add two types of layers that improve performance: $\\textit{Max Pooling}$ and $\\textit{Drop Out}$. \n",
    "\n",
    "Before testing the result with these tools, a brief explanation of how each one works. $\\textit{Max Pooling}$ is in some sense a dimensional reduction tool. It scans the image and keeps the largest pixel value in a given group, which size can be tuned. In this way, after its application, an image with a smaller dimension is obtained which, theoretically, retains the main characteristics. This allows, for example, to double the number of convolution filters without increasing the number of neurons. On the other hand, $\\textit{Drop Out}$ works as a shutter of neurons. It randomly nullifies a certain fraction of the neurons in the layer in which it is used. In this way, in each action of the layer different neurons are activated preventing the crystallization of preferential learning paths and providing robustness to the network by distributing the learning capacity uniformly. Let's see its performance:"
   ]
  },
  {
   "cell_type": "code",
   "execution_count": 22,
   "metadata": {},
   "outputs": [],
   "source": [
    "model = Sequential()\n",
    "#input layer\n",
    "model.add(Conv2D(filters = filters, kernel_size = kernel_size,\n",
    "                 strides = 1, padding = 'Same',\n",
    "                 activation =activation, input_shape = (28,28,1)))\n",
    "model.add(Conv2D(filters = filters, kernel_size = kernel_size,\n",
    "                 strides = 1, padding = 'Same',\n",
    "                 activation =activation))\n",
    "model.add(MaxPool2D(pool_size = (2,2)))\n",
    "model.add(Dropout(0.25))\n",
    "\n",
    "model.add(Conv2D(filters = 64, kernel_size = (3,3),\n",
    "                 strides = 1, padding = 'Same',\n",
    "                 activation =activation))\n",
    "model.add(Conv2D(filters = 64, kernel_size = (3,3),\n",
    "                 strides = 1, padding = 'Same',\n",
    "                 activation =activation))\n",
    "model.add(MaxPool2D(pool_size = (2,2)))\n",
    "model.add(Dropout(0.15))\n",
    "\n",
    "#output layer\n",
    "model.add(Flatten())\n",
    "model.add(Dense(256, activation = activation)) #dense de 2^n\n",
    "model.add(Dropout(0.45))\n",
    "model.add(Dense( 10,activation = 'softmax'))"
   ]
  },
  {
   "cell_type": "code",
   "execution_count": 23,
   "metadata": {},
   "outputs": [
    {
     "name": "stdout",
     "output_type": "stream",
     "text": [
      "Epoch 1/15\n",
      "500/500 [==============================] - 103s 207ms/step - loss: 0.3586 - acc: 0.8849 - val_loss: 0.0477 - val_acc: 0.9836\n",
      "Epoch 2/15\n",
      "500/500 [==============================] - 104s 208ms/step - loss: 0.1044 - acc: 0.9691 - val_loss: 0.0345 - val_acc: 0.9887\n",
      "Epoch 3/15\n",
      "500/500 [==============================] - 103s 206ms/step - loss: 0.0764 - acc: 0.9773 - val_loss: 0.0412 - val_acc: 0.9861\n",
      "\n",
      "Epoch 00003: ReduceLROnPlateau reducing learning rate to 0.00010000000474974513.\n",
      "Epoch 4/15\n",
      "500/500 [==============================] - 104s 207ms/step - loss: 0.0495 - acc: 0.9854 - val_loss: 0.0222 - val_acc: 0.9924\n",
      "Epoch 5/15\n",
      "500/500 [==============================] - 104s 208ms/step - loss: 0.0431 - acc: 0.9867 - val_loss: 0.0203 - val_acc: 0.9939\n",
      "Epoch 6/15\n",
      "500/500 [==============================] - 102s 205ms/step - loss: 0.0407 - acc: 0.9876 - val_loss: 0.0191 - val_acc: 0.9945\n",
      "Epoch 7/15\n",
      "500/500 [==============================] - 106s 212ms/step - loss: 0.0396 - acc: 0.9880 - val_loss: 0.0201 - val_acc: 0.9938\n",
      "\n",
      "Epoch 00007: ReduceLROnPlateau reducing learning rate to 1.0000000474974514e-05.\n",
      "Epoch 8/15\n",
      "500/500 [==============================] - 103s 205ms/step - loss: 0.0385 - acc: 0.9889 - val_loss: 0.0195 - val_acc: 0.9944\n",
      "\n",
      "Epoch 00008: ReduceLROnPlateau reducing learning rate to 1.0000000656873453e-06.\n",
      "Epoch 9/15\n",
      "500/500 [==============================] - 104s 208ms/step - loss: 0.0375 - acc: 0.9890 - val_loss: 0.0195 - val_acc: 0.9946\n",
      "Epoch 10/15\n",
      "500/500 [==============================] - 110s 219ms/step - loss: 0.0346 - acc: 0.9895 - val_loss: 0.0194 - val_acc: 0.9946\n",
      "\n",
      "Epoch 00010: ReduceLROnPlateau reducing learning rate to 1e-06.\n",
      "Epoch 11/15\n",
      "500/500 [==============================] - 103s 205ms/step - loss: 0.0364 - acc: 0.9888 - val_loss: 0.0194 - val_acc: 0.9946\n",
      "Epoch 12/15\n",
      "500/500 [==============================] - 105s 211ms/step - loss: 0.0372 - acc: 0.9889 - val_loss: 0.0194 - val_acc: 0.9948\n",
      "Epoch 13/15\n",
      "500/500 [==============================] - 106s 212ms/step - loss: 0.0366 - acc: 0.9886 - val_loss: 0.0194 - val_acc: 0.9948\n",
      "Epoch 14/15\n",
      "500/500 [==============================] - 105s 210ms/step - loss: 0.0367 - acc: 0.9890 - val_loss: 0.0194 - val_acc: 0.9946\n",
      "Epoch 15/15\n",
      "500/500 [==============================] - 103s 206ms/step - loss: 0.0367 - acc: 0.9889 - val_loss: 0.0193 - val_acc: 0.9946\n"
     ]
    }
   ],
   "source": [
    "optimizer = RMSprop(lr=0.001, rho=0.9, epsilon=1e-08, decay=0.0)\n",
    "model.compile(optimizer = optimizer, loss = loss, metrics = metric)\n",
    "\n",
    "history = model.fit_generator(datagen.flow(X_train, y_train, batch_size = batch_size),\n",
    "                              steps_per_epoch=500, validation_data=[X_val, y_val],\n",
    "                              epochs = 15,\n",
    "                             callbacks=[lr_reduction])"
   ]
  },
  {
   "cell_type": "markdown",
   "metadata": {},
   "source": [
    "As we can see, performance has improved substantially, reaching the expected values. In this case we show a training of few iterations. The performance can even improve with a higher number of epochs. \n",
    "\n",
    "In summary, convolutional neural networks are particularly preferred for image detection, recognition or classification. In this article, basic notions and structure of this type of networks have been presented for the classification of a \"toy\" dataset. In a more realistic case with noisy and larger images, a more thorough analysis of the parameter and species configuration and number of layers will be necessary to achieve good results. In addition, pre-processing of the data is crucial to exploit the power of this type of model."
   ]
  }
 ],
 "metadata": {
  "kernelspec": {
   "display_name": "Python 3",
   "language": "python",
   "name": "python3"
  },
  "language_info": {
   "codemirror_mode": {
    "name": "ipython",
    "version": 3
   },
   "file_extension": ".py",
   "mimetype": "text/x-python",
   "name": "python",
   "nbconvert_exporter": "python",
   "pygments_lexer": "ipython3",
   "version": "3.7.6"
  }
 },
 "nbformat": 4,
 "nbformat_minor": 4
}
